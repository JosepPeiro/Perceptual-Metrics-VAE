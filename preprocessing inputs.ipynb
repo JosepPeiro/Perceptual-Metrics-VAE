{
 "cells": [
  {
   "cell_type": "code",
   "execution_count": null,
   "metadata": {},
   "outputs": [],
   "source": [
    "import os\n",
    "from preprocessing import Preprocessing, SplitAudio, Reconstruction\n",
    "import torchaudio"
   ]
  },
  {
   "cell_type": "code",
   "execution_count": 31,
   "metadata": {},
   "outputs": [],
   "source": [
    "ruta_carpeta = \"./MusicCaps\"  # Reemplaza con la ruta real de tu carpeta\n",
    "\n",
    "archivos = os.listdir(ruta_carpeta)\n",
    "\n",
    "X = []\n",
    "metadata = []\n",
    "sample_rate_red = 16000\n",
    "for archivo in archivos:\n",
    "    waveform, samp_rt = torchaudio.load(\"./MusicCaps/\" + archivo)\n",
    "    f, s = SplitAudio(waveform, sample_rate = samp_rt, new_sample_rate = sample_rate_red)\n",
    "\n",
    "    f_spec, f_maxi, f_mini = Preprocessing(f, 16000, resampler_f = False)\n",
    "    s_spec, s_maxi, s_mini = Preprocessing(s, 16000, resampler_f = False)\n",
    "\n",
    "    X += [f_spec, s_spec]\n",
    "    metadata += [{\"nombre\":archivo, \"parte\":\"first\", \"minimum\":f_mini, \"maximum\":f_maxi},\n",
    "                 {\"nombre\":archivo, \"parte\":\"second\", \"minimum\":s_mini, \"maximum\":s_maxi}]"
   ]
  }
 ],
 "metadata": {
  "kernelspec": {
   "display_name": "Python 3",
   "language": "python",
   "name": "python3"
  },
  "language_info": {
   "codemirror_mode": {
    "name": "ipython",
    "version": 3
   },
   "file_extension": ".py",
   "mimetype": "text/x-python",
   "name": "python",
   "nbconvert_exporter": "python",
   "pygments_lexer": "ipython3",
   "version": "3.11.0"
  }
 },
 "nbformat": 4,
 "nbformat_minor": 2
}
