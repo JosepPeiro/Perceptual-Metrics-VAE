{
 "cells": [
  {
   "cell_type": "code",
   "execution_count": null,
   "metadata": {},
   "outputs": [
    {
     "name": "stdout",
     "output_type": "stream",
     "text": [
      "Collecting https://github.com/google-research/perceptual-quality/archive/master.zip\n",
      "  Downloading https://github.com/google-research/perceptual-quality/archive/master.zip\n",
      "     - 0 bytes ? 0:00:00\n",
      "     \\ 45.3 kB 466.5 kB/s 0:00:00\n",
      "  Preparing metadata (setup.py): started\n",
      "  Preparing metadata (setup.py): finished with status 'done'\n",
      "Requirement already satisfied: numpy>=1 in c:\\users\\jpeir\\appdata\\local\\programs\\python\\python311\\lib\\site-packages (from perceptual-quality==0.1.dev0) (1.24.2)\n",
      "Collecting tensorflow_probability>=0.9 (from perceptual-quality==0.1.dev0)\n",
      "  Downloading tensorflow_probability-0.25.0-py2.py3-none-any.whl.metadata (13 kB)\n",
      "Requirement already satisfied: absl-py in c:\\users\\jpeir\\appdata\\local\\programs\\python\\python311\\lib\\site-packages (from tensorflow_probability>=0.9->perceptual-quality==0.1.dev0) (2.1.0)\n",
      "Requirement already satisfied: six>=1.10.0 in c:\\users\\jpeir\\appdata\\roaming\\python\\python311\\site-packages (from tensorflow_probability>=0.9->perceptual-quality==0.1.dev0) (1.16.0)\n",
      "Requirement already satisfied: decorator in c:\\users\\jpeir\\appdata\\local\\programs\\python\\python311\\lib\\site-packages (from tensorflow_probability>=0.9->perceptual-quality==0.1.dev0) (4.4.2)\n",
      "Collecting cloudpickle>=1.3 (from tensorflow_probability>=0.9->perceptual-quality==0.1.dev0)\n",
      "  Downloading cloudpickle-3.1.1-py3-none-any.whl.metadata (7.1 kB)\n",
      "Requirement already satisfied: gast>=0.3.2 in c:\\users\\jpeir\\appdata\\local\\programs\\python\\python311\\lib\\site-packages (from tensorflow_probability>=0.9->perceptual-quality==0.1.dev0) (0.5.4)\n",
      "Collecting dm-tree (from tensorflow_probability>=0.9->perceptual-quality==0.1.dev0)\n",
      "  Downloading dm_tree-0.1.9-cp311-cp311-win_amd64.whl.metadata (2.5 kB)\n",
      "Requirement already satisfied: attrs>=18.2.0 in c:\\users\\jpeir\\appdata\\local\\programs\\python\\python311\\lib\\site-packages (from dm-tree->tensorflow_probability>=0.9->perceptual-quality==0.1.dev0) (23.1.0)\n",
      "Requirement already satisfied: wrapt>=1.11.2 in c:\\users\\jpeir\\appdata\\local\\programs\\python\\python311\\lib\\site-packages (from dm-tree->tensorflow_probability>=0.9->perceptual-quality==0.1.dev0) (1.16.0)\n",
      "Downloading tensorflow_probability-0.25.0-py2.py3-none-any.whl (7.0 MB)\n",
      "   ---------------------------------------- 0.0/7.0 MB ? eta -:--:--\n",
      "   --- ------------------------------------ 0.5/7.0 MB 4.2 MB/s eta 0:00:02\n",
      "   ------ --------------------------------- 1.0/7.0 MB 3.4 MB/s eta 0:00:02\n",
      "   ---------- ----------------------------- 1.8/7.0 MB 3.5 MB/s eta 0:00:02\n",
      "   ------------- -------------------------- 2.4/7.0 MB 3.4 MB/s eta 0:00:02\n",
      "   ------------------- -------------------- 3.4/7.0 MB 3.5 MB/s eta 0:00:02\n",
      "   ---------------------- ----------------- 3.9/7.0 MB 3.5 MB/s eta 0:00:01\n",
      "   --------------------------- ------------ 4.7/7.0 MB 3.4 MB/s eta 0:00:01\n",
      "   ------------------------------ --------- 5.2/7.0 MB 3.3 MB/s eta 0:00:01\n",
      "   ---------------------------------- ----- 6.0/7.0 MB 3.4 MB/s eta 0:00:01\n",
      "   ---------------------------------------  6.8/7.0 MB 3.4 MB/s eta 0:00:01\n",
      "   ---------------------------------------- 7.0/7.0 MB 3.4 MB/s eta 0:00:00\n",
      "Downloading cloudpickle-3.1.1-py3-none-any.whl (20 kB)\n",
      "Downloading dm_tree-0.1.9-cp311-cp311-win_amd64.whl (101 kB)\n",
      "Building wheels for collected packages: perceptual-quality\n",
      "  Building wheel for perceptual-quality (setup.py): started\n",
      "  Building wheel for perceptual-quality (setup.py): finished with status 'done'\n",
      "  Created wheel for perceptual-quality: filename=perceptual_quality-0.1.dev0-py3-none-any.whl size=42318 sha256=a4d78e969f6af72e6d7b9bc755ad226bceac032f916177481b9a6daffcb0ca25\n",
      "  Stored in directory: C:\\Users\\jpeir\\AppData\\Local\\Temp\\pip-ephem-wheel-cache-nmtirln4\\wheels\\19\\c4\\99\\e9f0530b23cb9e00e119ce5afae1457bdfab3c2db4d57d738c\n",
      "Successfully built perceptual-quality\n",
      "Installing collected packages: dm-tree, cloudpickle, tensorflow_probability, perceptual-quality\n",
      "Successfully installed cloudpickle-3.1.1 dm-tree-0.1.9 perceptual-quality-0.1.dev0 tensorflow_probability-0.25.0\n"
     ]
    },
    {
     "name": "stderr",
     "output_type": "stream",
     "text": [
      "\n",
      "[notice] A new release of pip is available: 24.3.1 -> 25.0.1\n",
      "[notice] To update, run: python.exe -m pip install --upgrade pip\n"
     ]
    }
   ],
   "source": [
    "#!pip install https://github.com/google-research/perceptual-quality/archive/master.zip"
   ]
  },
  {
   "cell_type": "code",
   "execution_count": null,
   "metadata": {},
   "outputs": [
    {
     "name": "stderr",
     "output_type": "stream",
     "text": [
      "c:\\Users\\jpeir\\AppData\\Local\\Programs\\Python\\Python311\\Lib\\site-packages\\torch\\utils\\_pytree.py:185: FutureWarning: optree is installed but the version is too old to support PyTorch Dynamo in C++ pytree. C++ pytree support is disabled. Please consider upgrading optree using `python3 -m pip install --upgrade 'optree>=0.13.0'`.\n",
      "  warnings.warn(\n"
     ]
    }
   ],
   "source": [
    "from LoadingDefault import LoadData\n",
    "\n",
    "from torch import nn\n",
    "import torch.optim as optim\n",
    "from torchinfo import summary\n",
    "\n",
    "import torch\n",
    "import torch.nn.functional as F\n",
    "\n",
    "from perceptual_quality.nlpd import nlpd\n",
    "import numpy as np\n",
    "import tensorflow as tf"
   ]
  },
  {
   "cell_type": "code",
   "execution_count": 2,
   "metadata": {},
   "outputs": [
    {
     "name": "stderr",
     "output_type": "stream",
     "text": [
      "c:\\Users\\jpeir\\AppData\\Local\\Programs\\Python\\Python311\\Lib\\site-packages\\torchaudio\\functional\\functional.py:584: UserWarning: At least one mel filterbank has all zero values. The value for `n_mels` (256) may be set too high. Or, the value for `n_freqs` (513) may be set too low.\n",
      "  warnings.warn(\n"
     ]
    }
   ],
   "source": [
    "dataloader = LoadData(limit=100, batch_size=8)"
   ]
  },
  {
   "cell_type": "code",
   "execution_count": 4,
   "metadata": {},
   "outputs": [],
   "source": [
    "class EntropyLimitedAutoencoder(nn.Module):\n",
    "    def __init__(self):\n",
    "        super().__init__()\n",
    "\n",
    "        self.centers = torch.Tensor([-1, 1])\n",
    "        self.sigma = 10\n",
    "        \n",
    "        # Encoder\n",
    "        self.encoder = nn.Sequential(\n",
    "            nn.Conv2d(in_channels=1, out_channels=128, kernel_size=3, stride=2, padding=1),  # Reduce tamaño a 128x128\n",
    "            nn.BatchNorm2d(128),\n",
    "            nn.LeakyReLU(0.2),\n",
    "            nn.Conv2d(in_channels=128, out_channels=128, kernel_size=3, stride=2, padding=1),\n",
    "            nn.BatchNorm2d(128),\n",
    "            nn.LeakyReLU(0.2),\n",
    "            nn.Conv2d(in_channels=128, out_channels=128, kernel_size=3, stride=2, padding=1),\n",
    "            nn.BatchNorm2d(128),\n",
    "            nn.LeakyReLU(0.2),\n",
    "            nn.Conv2d(in_channels=128, out_channels=128, kernel_size=3, stride=2, padding=1),  # Reduce tamaño a 128x128\n",
    "            nn.BatchNorm2d(128),\n",
    "            nn.Tanh()\n",
    "        )\n",
    "\n",
    "        # Decoder\n",
    "        self.decoder = nn.Sequential(\n",
    "            nn.ConvTranspose2d(in_channels=128, out_channels=128, kernel_size=3, stride=2, padding=1, output_padding=1),\n",
    "            nn.BatchNorm2d(128),\n",
    "            nn.LeakyReLU(0.2),\n",
    "            nn.ConvTranspose2d(in_channels=128, out_channels=128, kernel_size=3, stride=2, padding=1, output_padding=1),\n",
    "            nn.BatchNorm2d(128),\n",
    "            nn.LeakyReLU(0.2),\n",
    "            nn.ConvTranspose2d(in_channels=128, out_channels=128, kernel_size=3, stride=2, padding=1, output_padding=1),\n",
    "            nn.BatchNorm2d(128),\n",
    "            nn.LeakyReLU(0.2),\n",
    "            nn.ConvTranspose2d(in_channels=128, out_channels=128, kernel_size=3, stride=2, padding=1, output_padding=1),\n",
    "            nn.BatchNorm2d(128),\n",
    "            nn.LeakyReLU(0.2),\n",
    "            nn.Conv2d(in_channels=128, out_channels=1, kernel_size=3, stride=1, padding=1),\n",
    "            nn.Sigmoid()\n",
    "        )\n",
    "\n",
    "\n",
    "    def encode(self, x):\n",
    "        y = self.encoder(x)\n",
    "        return y\n",
    "\n",
    "    \n",
    "    def quantise(self, y):\n",
    "        if self.centers is None:\n",
    "            return y\n",
    "        y_flat = y.reshape(y.size(0), y.size(1), y.size(2)*y.size(3), 1)\n",
    "        dist = torch.abs((y_flat - self.centers))**2\n",
    "        if self.train:\n",
    "            phi = F.softmax(-self.sigma * dist, dim=-1)\n",
    "        else:\n",
    "            phi = F.softmax(-1e7 * dist, dim=-1)\n",
    "            symbols_hard = torch.argmax(phi, axis=-1)\n",
    "            phi = F.one_hot(symbols_hard, num_classes=self.centers.size(0))\n",
    "        inner_product = phi * self.centers\n",
    "        y_hat = torch.sum(inner_product, axis=-1)\n",
    "        y_hat = y_hat.reshape(y.shape)\n",
    "        return y_hat\n",
    "    \n",
    "\n",
    "    def decode(self, y):\n",
    "        x = self.decoder(y)\n",
    "        return x\n",
    "    \n",
    "\n",
    "    def forward(self, x):\n",
    "        encoded = self.encode(x)\n",
    "        limit_entropy = self.quantise(encoded)\n",
    "        decoded = self.decode(limit_entropy)\n",
    "        return decoded"
   ]
  },
  {
   "cell_type": "code",
   "execution_count": 69,
   "metadata": {},
   "outputs": [],
   "source": [
    "def format(x):\n",
    "    return tf.convert_to_tensor(np.transpose((x)*255, (1, 2, 0)))\n",
    "\n",
    "class NLPDLoss(nn.Module):\n",
    "    def __init__(self, num_levels=6):\n",
    "        \"\"\"\n",
    "        Implementación de la pérdida Normalized Laplacian Pyramid Distance (NLPD)\n",
    "        como criterio de entrenamiento para un autoencoder.\n",
    "\n",
    "        num_levels: Número de niveles en la pirámide Laplaciana.\n",
    "        \"\"\"\n",
    "        super(NLPDLoss, self).__init__()\n",
    "        self.num_levels = num_levels\n",
    "\n",
    "    def forward(self, reconstructed, original):\n",
    "        \"\"\"\n",
    "        Calcula la pérdida NLPD entre la imagen original y la reconstruida.\n",
    "\n",
    "        original: Tensor de PyTorch con la imagen original (B, C, H, W).\n",
    "        reconstructed: Tensor de PyTorch con la imagen reconstruida (B, C, H, W).\n",
    "\n",
    "        Retorna: Valor escalar de la pérdida NLPD.\n",
    "        \"\"\"\n",
    "        batch_size = original.shape[0]\n",
    "        total_loss = 0.0\n",
    "\n",
    "        for i in range(batch_size):\n",
    "            # Convertir a numpy\n",
    "            # original_np = original[i].detach().cpu().numpy()\n",
    "            # reconstructed_np = reconstructed[i].detach().cpu().numpy()\n",
    "\n",
    "            total_loss += nlpd(format(original[i].detach().numpy()),\n",
    "                               format(reconstructed[i].detach().numpy()),\n",
    "                               num_levels = self.num_levels).numpy()[0]\n",
    "        return torch.tensor(total_loss / batch_size, requires_grad=True)"
   ]
  },
  {
   "cell_type": "code",
   "execution_count": 70,
   "metadata": {},
   "outputs": [],
   "source": [
    "ae = EntropyLimitedAutoencoder()\n",
    "criterion = NLPDLoss()\n",
    "optimizer = optim.AdamW(ae.parameters(), lr=1e-3, weight_decay=1e-4)\n",
    "#summary(ae)"
   ]
  },
  {
   "cell_type": "code",
   "execution_count": null,
   "metadata": {},
   "outputs": [
    {
     "name": "stdout",
     "output_type": "stream",
     "text": [
      "Pérdida: 0.595247\n",
      "Pérdida: 0.597740\n",
      "Pérdida: 0.584230\n",
      "Pérdida: 0.578102\n",
      "Pérdida: 0.583979\n",
      "Pérdida: 0.581771\n",
      "Pérdida: 0.574061\n",
      "Pérdida: 0.565260\n",
      "Pérdida: 0.584383\n",
      "Pérdida: 0.589092\n",
      "Pérdida: 0.576842\n",
      "Pérdida: 0.576448\n",
      "Pérdida: 0.558609\n",
      "Pérdida: 0.580504\n",
      "Pérdida: 0.585768\n",
      "Pérdida: 0.582855\n",
      "Pérdida: 0.590916\n",
      "Pérdida: 0.584302\n",
      "Pérdida: 0.590476\n",
      "Pérdida: 0.588203\n",
      "Pérdida: 0.602624\n",
      "Pérdida: 0.593247\n",
      "Pérdida: 0.597331\n",
      "Pérdida: 0.583398\n",
      "Pérdida: 0.597158\n",
      "Época [1/3], Pérdida: 0.584902\n",
      "Pérdida: 0.590035\n",
      "Pérdida: 0.590599\n"
     ]
    }
   ],
   "source": [
    "num_epochs = 3\n",
    "\n",
    "for epoch in range(num_epochs):\n",
    "    total_loss = 0\n",
    "    for batch in dataloader:  # dataloader ya tiene los batches de 64x1x256x256\n",
    "        batch = batch[0] # Extraer tensor\n",
    "\n",
    "        optimizer.zero_grad()  # Reiniciar gradientes\n",
    "\n",
    "        outputs = ae(batch)  # Forward pass\n",
    "        loss = criterion(outputs, batch)  # Comparar con entrada\n",
    "\n",
    "        loss.backward()  # Backpropagation\n",
    "        optimizer.step()  # Actualizar pesos\n",
    "\n",
    "        total_loss += loss.item()\n",
    "        print(f\"Pérdida: {loss.item():.6f}\")\n",
    "    avg_loss = total_loss / len(dataloader)\n",
    "    print(f\"Época [{epoch+1}/{num_epochs}], Pérdida: {avg_loss:.6f}\")"
   ]
  },
  {
   "cell_type": "code",
   "execution_count": null,
   "metadata": {},
   "outputs": [],
   "source": []
  }
 ],
 "metadata": {
  "kernelspec": {
   "display_name": "Python 3",
   "language": "python",
   "name": "python3"
  },
  "language_info": {
   "codemirror_mode": {
    "name": "ipython",
    "version": 3
   },
   "file_extension": ".py",
   "mimetype": "text/x-python",
   "name": "python",
   "nbconvert_exporter": "python",
   "pygments_lexer": "ipython3",
   "version": "3.11.0"
  }
 },
 "nbformat": 4,
 "nbformat_minor": 2
}
