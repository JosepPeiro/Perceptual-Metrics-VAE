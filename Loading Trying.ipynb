{
 "cells": [
  {
   "cell_type": "code",
   "execution_count": 9,
   "metadata": {},
   "outputs": [],
   "source": [
    "from LoadingDefault import LoadData, Autoencoder\n",
    "\n",
    "from torch import nn\n",
    "import torch.optim as optim\n",
    "from torchinfo import summary"
   ]
  },
  {
   "cell_type": "code",
   "execution_count": null,
   "metadata": {},
   "outputs": [],
   "source": [
    "dataloader = LoadData()"
   ]
  },
  {
   "cell_type": "code",
   "execution_count": 10,
   "metadata": {},
   "outputs": [
    {
     "data": {
      "text/plain": [
       "=================================================================\n",
       "Layer (type:depth-idx)                   Param #\n",
       "=================================================================\n",
       "Autoencoder                              --\n",
       "├─Sequential: 1-1                        --\n",
       "│    └─Conv2d: 2-1                       1,280\n",
       "│    └─BatchNorm2d: 2-2                  256\n",
       "│    └─LeakyReLU: 2-3                    --\n",
       "│    └─Conv2d: 2-4                       147,584\n",
       "│    └─BatchNorm2d: 2-5                  256\n",
       "│    └─LeakyReLU: 2-6                    --\n",
       "│    └─Conv2d: 2-7                       147,584\n",
       "│    └─BatchNorm2d: 2-8                  256\n",
       "│    └─LeakyReLU: 2-9                    --\n",
       "│    └─Conv2d: 2-10                      147,584\n",
       "│    └─BatchNorm2d: 2-11                 256\n",
       "│    └─Tanh: 2-12                        --\n",
       "├─Sequential: 1-2                        --\n",
       "│    └─ConvTranspose2d: 2-13             147,584\n",
       "│    └─BatchNorm2d: 2-14                 256\n",
       "│    └─LeakyReLU: 2-15                   --\n",
       "│    └─ConvTranspose2d: 2-16             147,584\n",
       "│    └─BatchNorm2d: 2-17                 256\n",
       "│    └─LeakyReLU: 2-18                   --\n",
       "│    └─ConvTranspose2d: 2-19             147,584\n",
       "│    └─BatchNorm2d: 2-20                 256\n",
       "│    └─LeakyReLU: 2-21                   --\n",
       "│    └─ConvTranspose2d: 2-22             147,584\n",
       "│    └─BatchNorm2d: 2-23                 256\n",
       "│    └─LeakyReLU: 2-24                   --\n",
       "│    └─Conv2d: 2-25                      1,153\n",
       "│    └─Sigmoid: 2-26                     --\n",
       "=================================================================\n",
       "Total params: 1,037,569\n",
       "Trainable params: 1,037,569\n",
       "Non-trainable params: 0\n",
       "================================================================="
      ]
     },
     "execution_count": 10,
     "metadata": {},
     "output_type": "execute_result"
    }
   ],
   "source": [
    "ae = Autoencoder()\n",
    "criterion = nn.MSELoss()\n",
    "optimizer = optim.AdamW(ae.parameters(), lr=1e-3, weight_decay=1e-4)\n",
    "summary(ae)"
   ]
  }
 ],
 "metadata": {
  "kernelspec": {
   "display_name": "Python 3",
   "language": "python",
   "name": "python3"
  },
  "language_info": {
   "codemirror_mode": {
    "name": "ipython",
    "version": 3
   },
   "file_extension": ".py",
   "mimetype": "text/x-python",
   "name": "python",
   "nbconvert_exporter": "python",
   "pygments_lexer": "ipython3",
   "version": "3.11.0"
  }
 },
 "nbformat": 4,
 "nbformat_minor": 2
}
